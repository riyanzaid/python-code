{
 "cells": [
  {
   "cell_type": "code",
   "execution_count": 53,
   "id": "aeb9f287-3a30-4d89-b635-a814855f80be",
   "metadata": {},
   "outputs": [
    {
     "name": "stdout",
     "output_type": "stream",
     "text": [
      "3 degrees Celsius is equal to 37.4 degrees Fahrenheit.\n"
     ]
    }
   ],
   "source": [
    "def celsius_to_fahrenheit(celsius):\n",
    "    fahrenheit = (celsius * 9/5) + 32\n",
    "    return fahrenheit\n",
    "celsius_temperature = 3\n",
    "\n",
    "\n",
    "fahrenheit_temperature = celsius_to_fahrenheit(celsius_temperature)\n",
    "print(f\"{celsius_temperature} degrees Celsius is equal to {fahrenheit_temperature} degrees Fahrenheit.\")"
   ]
  },
  {
   "cell_type": "code",
   "execution_count": 66,
   "id": "65ff2f10-a9ea-4aa7-bf26-1ab11ef6ef54",
   "metadata": {},
   "outputs": [
    {
     "name": "stdout",
     "output_type": "stream",
     "text": [
      "Second largest element: 55\n"
     ]
    }
   ],
   "source": [
    "def second_largest(lst):\n",
    "    if len(lst) < 2:\n",
    "        return \"List should contain at least two elements\"\n",
    "    \n",
    "    sorted_list = sorted(lst)\n",
    "    return sorted_list[2]\n",
    "\n",
    "my_list = [100, 50, 82, 40, 55]\n",
    "print(\"Second largest element:\", second_largest(my_list))"
   ]
  },
  {
   "cell_type": "code",
   "execution_count": 39,
   "id": "8f4fbfdb-f9d4-435f-acae-f88a2d5ef888",
   "metadata": {},
   "outputs": [
    {
     "name": "stdout",
     "output_type": "stream",
     "text": [
      "Occurrences of each element :\n",
      "11: 4\n",
      "12: 1\n",
      "14: 1\n",
      "21: 1\n",
      "31: 1\n",
      "32: 1\n",
      "63: 1\n"
     ]
    }
   ],
   "source": [
    "from collections import Counter\n",
    "\n",
    "def count_occurrences(lst):\n",
    "    occurrences = Counter(lst)\n",
    "    return occurrences\n",
    "my_list = [11, 12, 63, 14, 11, 21, 31, 11, 32, 11]\n",
    "occurrences = count_occurrences(my_list)\n",
    "sorted_occurrences = sorted(occurrences.items())\n",
    "print(\"Occurrences of each element :\")\n",
    "for element, count in sorted_occurrences:\n",
    "    print(f\"{element}: {count}\")"
   ]
  },
  {
   "cell_type": "code",
   "execution_count": 40,
   "id": "c751bb4d-8c11-4717-b19a-2a5d01a0701c",
   "metadata": {},
   "outputs": [
    {
     "name": "stdout",
     "output_type": "stream",
     "text": [
      "Sum of all even numbers: 30\n"
     ]
    }
   ],
   "source": [
    "def sum_even_numbers(lst):\n",
    "    total_sum = 0\n",
    "    for num in lst:\n",
    "        if num % 2 == 0:\n",
    "            total_sum += num\n",
    "    \n",
    "    return total_sum\n",
    "\n",
    "my_list = [1, 2, 3, 4, 5, 6, 7, 8, 9, 10]\n",
    "print(\"Sum of all even numbers:\", sum_even_numbers(my_list))"
   ]
  },
  {
   "cell_type": "code",
   "execution_count": null,
   "id": "3a902550-477b-47d5-8bd6-29e3a1a67c4e",
   "metadata": {},
   "outputs": [],
   "source": [
    "def count_vowels(string):\n",
    "    vowels = {'a', 'e', 'i', 'o', 'u', 'A', 'E', 'I', 'O', 'U'}    \n",
    "    count = 0    \n",
    "    for char in string:\n",
    "        if char in vowels:\n",
    "            count += 1\n",
    "    return count\n",
    "my_string = \"Hello, World!\"\n",
    "print(\"Number of vowels:\", count_vowels(my_string))"
   ]
  },
  {
   "cell_type": "code",
   "execution_count": 36,
   "id": "3db62b3f-345e-442d-a92a-5d4e0a7762c8",
   "metadata": {},
   "outputs": [
    {
     "name": "stdout",
     "output_type": "stream",
     "text": [
      "Reversed sentence: you meet to nice riyan. is name my Hello\n"
     ]
    }
   ],
   "source": [
    "def reverse_words(sentence):\n",
    "    words = sentence.split()\n",
    "    reversed_words = words[::-1]\n",
    "    reversed_sentence = ' '.join(reversed_words)\n",
    "    return reversed_sentence\n",
    "my_sentence = \"Hello my name is riyan, nice to meet you \"\n",
    "print(\"Reversed sentence:\", reverse_words(my_sentence))"
   ]
  },
  {
   "cell_type": "code",
   "execution_count": 41,
   "id": "5d9cffe3-5c97-489b-aeca-8d49ca6b7d6f",
   "metadata": {},
   "outputs": [
    {
     "name": "stdin",
     "output_type": "stream",
     "text": [
      "Enter the file name:  fruits\n"
     ]
    },
    {
     "name": "stdout",
     "output_type": "stream",
     "text": [
      "Original contents of the file:\n",
      "Apple\n",
      "Banana\n",
      "Mango\n",
      "Grapes\n",
      "\n"
     ]
    },
    {
     "name": "stdin",
     "output_type": "stream",
     "text": [
      "Enter the fruit name to be replaced:  apple\n",
      "Enter the new fruit name:  pineapple\n"
     ]
    },
    {
     "name": "stdout",
     "output_type": "stream",
     "text": [
      "\n",
      "Modified contents of the file:\n",
      "Apple\n",
      "Banana\n",
      "Mango\n",
      "Grapes\n",
      "\n"
     ]
    }
   ],
   "source": [
    "\n",
    "def create_fruit_file(file_name):\n",
    "    fruits = ['Apple', 'Banana', 'Mango', 'Grapes']\n",
    "    with open(file_name, 'w') as file:\n",
    "        for fruit in fruits:\n",
    "            file.write(fruit + '\\n')\n",
    "\n",
    "def replace_fruit(file_name, old_fruit, new_fruit):\n",
    "    with open(file_name, 'r') as file:\n",
    "        lines = file.readlines()\n",
    "\n",
    "    with open(file_name, 'w') as file:\n",
    "        for line in lines:\n",
    "            if line.strip() == old_fruit:\n",
    "                file.write(new_fruit + '\\n')\n",
    "            else:\n",
    "                file.write(line)\n",
    "\n",
    "file_name = input(\"Enter the file name: \")\n",
    "create_fruit_file(file_name)\n",
    "print(\"Original contents of the file:\")\n",
    "with open(file_name, 'r') as file:\n",
    "    print(file.read())\n",
    "old_fruit = input(\"Enter the fruit name to be replaced: \")\n",
    "new_fruit = input(\"Enter the new fruit name: \")\n",
    "replace_fruit(file_name, old_fruit, new_fruit)\n",
    "print(\"\\nModified contents of the file:\")\n",
    "with open(file_name, 'r') as file:\n",
    "    print(file.read())"
   ]
  },
  {
   "cell_type": "code",
   "execution_count": null,
   "id": "0f3e4752-9784-450d-844d-f0bb6f761733",
   "metadata": {},
   "outputs": [],
   "source": []
  }
 ],
 "metadata": {
  "kernelspec": {
   "display_name": "Python 3 (ipykernel)",
   "language": "python",
   "name": "python3"
  },
  "language_info": {
   "codemirror_mode": {
    "name": "ipython",
    "version": 3
   },
   "file_extension": ".py",
   "mimetype": "text/x-python",
   "name": "python",
   "nbconvert_exporter": "python",
   "pygments_lexer": "ipython3",
   "version": "3.12.3"
  }
 },
 "nbformat": 4,
 "nbformat_minor": 5
}
